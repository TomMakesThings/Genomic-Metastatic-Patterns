{
 "cells": [
  {
   "cell_type": "code",
   "execution_count": 5,
   "id": "8cbe1919",
   "metadata": {},
   "outputs": [
    {
     "name": "stdout",
     "output_type": "stream",
     "text": [
      "Collecting py-rsync\n",
      "  Downloading py_rsync-0.0.1a0.dev0.tar.gz (21 kB)\n",
      "  Installing build dependencies: started\n",
      "  Installing build dependencies: finished with status 'done'\n",
      "  Getting requirements to build wheel: started\n",
      "  Getting requirements to build wheel: finished with status 'done'\n",
      "    Preparing wheel metadata: started\n",
      "    Preparing wheel metadata: finished with status 'done'\n",
      "Requirement already satisfied: jinja2 in c:\\users\\redds\\anaconda3\\lib\\site-packages (from py-rsync) (2.11.3)\n",
      "Collecting hyperlink\n",
      "  Downloading hyperlink-21.0.0-py2.py3-none-any.whl (74 kB)\n",
      "Requirement already satisfied: idna>=2.5 in c:\\users\\redds\\anaconda3\\lib\\site-packages (from hyperlink->py-rsync) (3.3)\n",
      "Requirement already satisfied: MarkupSafe>=0.23 in c:\\users\\redds\\anaconda3\\lib\\site-packages (from jinja2->py-rsync) (1.1.1)\n",
      "Building wheels for collected packages: py-rsync\n",
      "  Building wheel for py-rsync (PEP 517): started\n",
      "  Building wheel for py-rsync (PEP 517): finished with status 'done'\n",
      "  Created wheel for py-rsync: filename=py_rsync-0.0.1a0.dev0-py2.py3-none-any.whl size=9127 sha256=6caa256df599cee5bc7dbe8965ef612861747e39c55a1bda636f6675024130fb\n",
      "  Stored in directory: c:\\users\\redds\\appdata\\local\\pip\\cache\\wheels\\23\\dd\\80\\f6466a6edd67ab7dc37f36067ac7c1e1d52beec8ccbae2ecd2\n",
      "Successfully built py-rsync\n",
      "Installing collected packages: hyperlink, py-rsync\n",
      "Successfully installed hyperlink-21.0.0 py-rsync-0.0.1a0.dev0\n"
     ]
    }
   ],
   "source": [
    "# !pip install SigProfilerMatrixGenerator\n",
    "# !pip install wget\n",
    "!pip install py-rsync"
   ]
  },
  {
   "cell_type": "code",
   "execution_count": 10,
   "id": "4d43666e",
   "metadata": {},
   "outputs": [
    {
     "name": "stdout",
     "output_type": "stream",
     "text": [
      "100% [......................................................................] 818499387 / 818499387"
     ]
    }
   ],
   "source": [
    "import wget\n",
    "url = 'ftp://alexandrovlab-ftp.ucsd.edu/pub/tools/SigProfilerMatrixGenerator/GRCh37.tar.gz'\n",
    "filename = wget.download(url)"
   ]
  },
  {
   "cell_type": "code",
   "execution_count": 11,
   "id": "de476225",
   "metadata": {},
   "outputs": [
    {
     "data": {
      "text/plain": [
       "'GRCh37.tar.gz'"
      ]
     },
     "execution_count": 11,
     "metadata": {},
     "output_type": "execute_result"
    }
   ],
   "source": [
    "filename\n"
   ]
  },
  {
   "cell_type": "code",
   "execution_count": 9,
   "id": "929c2915",
   "metadata": {},
   "outputs": [
    {
     "name": "stdout",
     "output_type": "stream",
     "text": [
      "You do not have wget nor rsync installed. Please install wget or rsync and then reattempt to install your desired genome.\n"
     ]
    },
    {
     "ename": "SystemExit",
     "evalue": "",
     "output_type": "error",
     "traceback": [
      "An exception has occurred, use %tb to see the full traceback.\n",
      "\u001b[1;31mSystemExit\u001b[0m\n"
     ]
    }
   ],
   "source": [
    "from SigProfilerMatrixGenerator import install as genInstall\n",
    "genInstall.install('GRCh37', rsync=False, bash=True)"
   ]
  }
 ],
 "metadata": {
  "kernelspec": {
   "display_name": "Python 3 (ipykernel)",
   "language": "python",
   "name": "python3"
  },
  "language_info": {
   "codemirror_mode": {
    "name": "ipython",
    "version": 3
   },
   "file_extension": ".py",
   "mimetype": "text/x-python",
   "name": "python",
   "nbconvert_exporter": "python",
   "pygments_lexer": "ipython3",
   "version": "3.9.7"
  }
 },
 "nbformat": 4,
 "nbformat_minor": 5
}
